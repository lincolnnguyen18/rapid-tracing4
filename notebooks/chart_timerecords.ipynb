{
 "cells": [
  {
   "cell_type": "code",
   "execution_count": 90,
   "metadata": {},
   "outputs": [
    {
     "name": "stdout",
     "output_type": "stream",
     "text": [
      "(11, 49, datetime.datetime(2022, 2, 19, 10, 34, 4))\n",
      "(10, 44, datetime.datetime(2022, 2, 19, 10, 33, 59))\n",
      "(9, 156, datetime.datetime(2022, 2, 19, 10, 8, 34))\n",
      "(8, 139, datetime.datetime(2022, 2, 19, 10, 8, 17))\n",
      "(7, 126, datetime.datetime(2022, 2, 19, 10, 8, 4))\n",
      "(6, 124, datetime.datetime(2022, 2, 19, 10, 8, 1))\n",
      "(5, 31, datetime.datetime(2022, 2, 19, 10, 6, 28))\n",
      "(4, 7, datetime.datetime(2022, 2, 19, 10, 6, 5))\n",
      "(3, 11, datetime.datetime(2022, 2, 19, 9, 38, 20))\n",
      "(2, 249, datetime.datetime(2022, 2, 19, 9, 28, 22))\n",
      "(1, 2, datetime.datetime(2022, 2, 19, 9, 24, 15))\n"
     ]
    },
    {
     "data": {
      "image/png": "[encoded data removed]",
      "text/plain": [
       "<Figure size 432x288 with 1 Axes>"
      ]
     },
     "metadata": {
      "needs_background": "light"
     },
     "output_type": "display_data"
    }
   ],
   "source": [
    "import mysql.connector\n",
    "import matplotlib.ticker as ticker\n",
    "import matplotlib.pyplot as plt\n",
    "import matplotlib.dates as mdates\n",
    "import numpy as np\n",
    "import time\n",
    "\n",
    "mydb = mysql.connector.connect(\n",
    "  host=\"localhost\",\n",
    "  user=\"admin\",\n",
    "  password=\"pass123\",\n",
    "  database=\"rapid_tracing\"\n",
    ")\n",
    "\n",
    "def get_user_picture_time_records_chart(user_id, picture_id):\n",
    "  cursor = mydb.cursor()\n",
    "  cursor.execute(\"call get_user_picture_time_records(%s, %s)\", (user_id, picture_id))\n",
    "  result = cursor.fetchall()\n",
    "  for row in result:\n",
    "    print(row)\n",
    "  N = len(result)\n",
    "  x = [record[2] for record in result]\n",
    "  y = [record[1] for record in result]\n",
    "  plt.gca().xaxis.set_major_formatter(mdates.DateFormatter('%Y-%m-%d'))\n",
    "  plt.gca().xaxis.set_major_locator(mdates.DayLocator(interval=1))\n",
    "  formatter = ticker.FuncFormatter(lambda s, y: time.strftime('%M:%S', time.gmtime(s)))\n",
    "  plt.gca().yaxis.set_major_formatter(formatter)\n",
    "  plt.plot(x, y)\n",
    "  plt.gcf().autofmt_xdate()\n",
    "  plt.show()\n",
    "\n",
    "get_user_picture_time_records_chart(1, 1)"
   ]
  },
  {
   "cell_type": "code",
   "execution_count": 89,
   "metadata": {},
   "outputs": [
    {
     "name": "stdout",
     "output_type": "stream",
     "text": [
      "(11, 49, datetime.datetime(2022, 2, 19, 10, 34, 4))\n",
      "(10, 44, datetime.datetime(2022, 2, 19, 10, 33, 59))\n",
      "(9, 156, datetime.datetime(2022, 2, 19, 10, 8, 34))\n",
      "(8, 139, datetime.datetime(2022, 2, 19, 10, 8, 17))\n",
      "(7, 126, datetime.datetime(2022, 2, 19, 10, 8, 4))\n",
      "(6, 124, datetime.datetime(2022, 2, 19, 10, 8, 1))\n",
      "(5, 31, datetime.datetime(2022, 2, 19, 10, 6, 28))\n",
      "(4, 7, datetime.datetime(2022, 2, 19, 10, 6, 5))\n",
      "(3, 11, datetime.datetime(2022, 2, 19, 9, 38, 20))\n",
      "(2, 249, datetime.datetime(2022, 2, 19, 9, 28, 22))\n",
      "(1, 2, datetime.datetime(2022, 2, 19, 9, 24, 15))\n"
     ]
    },
    {
     "data": {
      "image/png": "[encoded data removed]",
      "text/plain": [
       "<Figure size 432x288 with 1 Axes>"
      ]
     },
     "metadata": {
      "needs_background": "light"
     },
     "output_type": "display_data"
    }
   ],
   "source": [
    "import mysql.connector\n",
    "import matplotlib.ticker as ticker\n",
    "import matplotlib.pyplot as plt\n",
    "import matplotlib.dates as mdates\n",
    "import numpy as np\n",
    "import time\n",
    "\n",
    "mydb = mysql.connector.connect(\n",
    "  host=\"localhost\",\n",
    "  user=\"admin\",\n",
    "  password=\"pass123\",\n",
    "  database=\"rapid_tracing\"\n",
    ")\n",
    "\n",
    "def get_user_picture_time_records_chart(user_id, picture_id):\n",
    "  cursor = mydb.cursor()\n",
    "  cursor.execute(\"call get_user_picture_time_records(%s, %s)\", (user_id, picture_id))\n",
    "  result = cursor.fetchall()\n",
    "  for row in result:\n",
    "    print(row)\n",
    "  N = len(result)\n",
    "  x = []\n",
    "  for record in result:\n",
    "    datetime = record[2]\n",
    "    # format datetime as date and time\n",
    "    x.append(datetime.strftime(\"%Y-%m-%d %H:%M:%S\"))\n",
    "  y = [record[1] for record in result]\n",
    "  # plt.gca().xaxis.set_major_formatter(mdates.DateFormatter('%Y-%m-%d'))\n",
    "  plt.gca().xaxis.set_major_locator(mdates.DayLocator(interval=N//5))\n",
    "  formatter = ticker.FuncFormatter(lambda s, y: time.strftime('%M:%S', time.gmtime(s)))\n",
    "  plt.gca().yaxis.set_major_formatter(formatter)\n",
    "  # plt.plot(x, y)\n",
    "  plt.bar(x, y, align='center')\n",
    "  plt.gcf().autofmt_xdate()\n",
    "  # plt.show()\n",
    "\n",
    "get_user_picture_time_records_chart(1, 1)"
   ]
  },
  {
   "cell_type": "code",
   "execution_count": 96,
   "metadata": {},
   "outputs": [
    {
     "name": "stdout",
     "output_type": "stream",
     "text": [
      "(1, 2, datetime.datetime(2022, 2, 19, 9, 24, 15))\n",
      "(2, 249, datetime.datetime(2022, 2, 19, 9, 28, 22))\n",
      "(3, 11, datetime.datetime(2022, 2, 19, 9, 38, 20))\n",
      "(4, 7, datetime.datetime(2022, 2, 19, 10, 6, 5))\n",
      "(5, 31, datetime.datetime(2022, 2, 19, 10, 6, 28))\n",
      "(6, 124, datetime.datetime(2022, 2, 19, 10, 8, 1))\n",
      "(7, 126, datetime.datetime(2022, 2, 19, 10, 8, 4))\n",
      "(8, 139, datetime.datetime(2022, 2, 19, 10, 8, 17))\n",
      "(9, 156, datetime.datetime(2022, 2, 19, 10, 8, 34))\n",
      "(10, 44, datetime.datetime(2022, 2, 19, 10, 33, 59))\n",
      "(11, 49, datetime.datetime(2022, 2, 19, 10, 34, 4))\n",
      "(12, 39, datetime.datetime(2022, 2, 19, 11, 22, 42))\n",
      "(13, 52, datetime.datetime(2022, 2, 19, 11, 22, 55))\n",
      "(14, 16, datetime.datetime(2022, 2, 19, 11, 29, 45))\n",
      "(15, 31, datetime.datetime(2022, 2, 19, 11, 30))\n",
      "(16, 450, datetime.datetime(2022, 2, 19, 11, 37))\n"
     ]
    },
    {
     "data": {
      "image/png": "[encoded data removed]",
      "text/plain": [
       "<Figure size 432x288 with 1 Axes>"
      ]
     },
     "metadata": {
      "needs_background": "light"
     },
     "output_type": "display_data"
    }
   ],
   "source": [
    "import mysql.connector\n",
    "import matplotlib.ticker as ticker\n",
    "import matplotlib.pyplot as plt\n",
    "import matplotlib.dates as mdates\n",
    "import numpy as np\n",
    "import time\n",
    "\n",
    "mydb = mysql.connector.connect(\n",
    "  host=\"localhost\",\n",
    "  user=\"admin\",\n",
    "  password=\"pass123\",\n",
    "  database=\"rapid_tracing\"\n",
    ")\n",
    "\n",
    "def get_user_picture_time_records_chart(user_id, picture_id):\n",
    "  cursor = mydb.cursor()\n",
    "  cursor.execute(\"call get_user_picture_time_records(%s, %s)\", (user_id, picture_id))\n",
    "  result = cursor.fetchall()\n",
    "  for row in result:\n",
    "    print(row)\n",
    "  N = len(result)\n",
    "  x = []\n",
    "  for record in result:\n",
    "    datetime = record[2]\n",
    "    # format datetime as date and time\n",
    "    x.append(datetime.strftime(\"%Y-%m-%d %H:%M:%S\"))\n",
    "  y = [record[1] for record in result]\n",
    "  # plt.gca().xaxis.set_major_formatter(mdates.DateFormatter('%Y-%m-%d'))\n",
    "  plt.gca().xaxis.set_major_locator(mdates.DayLocator(interval=N//5))\n",
    "  formatter = ticker.FuncFormatter(lambda s, y: time.strftime('%M:%S', time.gmtime(s)))\n",
    "  plt.gca().yaxis.set_major_formatter(formatter)\n",
    "  plt.gca().yaxis.grid(True)\n",
    "  plt.plot(x, y)\n",
    "  plt.gcf().autofmt_xdate()\n",
    "  # plt.show()\n",
    "\n",
    "get_user_picture_time_records_chart(1, 1)"
   ]
  },
  {
   "cell_type": "code",
   "execution_count": 95,
   "metadata": {},
   "outputs": [
    {
     "name": "stdout",
     "output_type": "stream",
     "text": [
      "(1, 2, datetime.datetime(2022, 2, 19, 9, 24, 15))\n",
      "(2, 249, datetime.datetime(2022, 2, 19, 9, 28, 22))\n",
      "(3, 11, datetime.datetime(2022, 2, 19, 9, 38, 20))\n",
      "(4, 7, datetime.datetime(2022, 2, 19, 10, 6, 5))\n",
      "(5, 31, datetime.datetime(2022, 2, 19, 10, 6, 28))\n",
      "(6, 124, datetime.datetime(2022, 2, 19, 10, 8, 1))\n",
      "(7, 126, datetime.datetime(2022, 2, 19, 10, 8, 4))\n",
      "(8, 139, datetime.datetime(2022, 2, 19, 10, 8, 17))\n",
      "(9, 156, datetime.datetime(2022, 2, 19, 10, 8, 34))\n",
      "(10, 44, datetime.datetime(2022, 2, 19, 10, 33, 59))\n",
      "(11, 49, datetime.datetime(2022, 2, 19, 10, 34, 4))\n",
      "(12, 39, datetime.datetime(2022, 2, 19, 11, 22, 42))\n",
      "(13, 52, datetime.datetime(2022, 2, 19, 11, 22, 55))\n",
      "(14, 16, datetime.datetime(2022, 2, 19, 11, 29, 45))\n",
      "(15, 31, datetime.datetime(2022, 2, 19, 11, 30))\n",
      "(16, 450, datetime.datetime(2022, 2, 19, 11, 37))\n"
     ]
    },
    {
     "data": {
      "image/png": "[encoded data removed]",
      "text/plain": [
       "<Figure size 432x288 with 1 Axes>"
      ]
     },
     "metadata": {
      "needs_background": "light"
     },
     "output_type": "display_data"
    }
   ],
   "source": [
    "import mysql.connector\n",
    "import matplotlib.ticker as ticker\n",
    "import matplotlib.pyplot as plt\n",
    "import matplotlib.dates as mdates\n",
    "import numpy as np\n",
    "import time\n",
    "import datetime\n",
    "\n",
    "mydb = mysql.connector.connect(\n",
    "  host=\"localhost\",\n",
    "  user=\"admin\",\n",
    "  password=\"pass123\",\n",
    "  database=\"rapid_tracing\"\n",
    ")\n",
    "\n",
    "def get_user_picture_time_records_chart(user_id, picture_id):\n",
    "  cursor = mydb.cursor()\n",
    "  cursor.execute(\"call get_user_picture_time_records(%s, %s)\", (user_id, picture_id))\n",
    "  result = cursor.fetchall()\n",
    "  for row in result:\n",
    "    print(row)\n",
    "  N = len(result)\n",
    "  x = []\n",
    "  for record in result:\n",
    "    _datetime = record[2] + datetime.timedelta(hours=1)\n",
    "    x.append(_datetime.strftime(\"%Y-%m-%d %H:%M:%S\"))\n",
    "  y = [record[1] for record in result]\n",
    "  plt.gca().xaxis.set_major_locator(mdates.DayLocator(interval=N//5))\n",
    "  formatter = ticker.FuncFormatter(lambda s, y: time.strftime('%M:%S', time.gmtime(s)))\n",
    "  plt.gca().yaxis.set_major_formatter(formatter)\n",
    "  plt.gca().yaxis.grid(True)\n",
    "  plt.bar(x, y, align='center')\n",
    "  plt.gcf().autofmt_xdate()\n",
    "\n",
    "get_user_picture_time_records_chart(1, 1)"
   ]
  },
  {
   "cell_type": "code",
   "execution_count": 23,
   "metadata": {},
   "outputs": [
    {
     "data": {
      "text/plain": [
       "'nlfMoIVTqw'"
      ]
     },
     "execution_count": 23,
     "metadata": {},
     "output_type": "execute_result"
    }
   ],
   "source": [
    "import random\n",
    "import string\n",
    "\n",
    "def get_temp_name():\n",
    "  return ''.join(random.choice(string.digits + string.ascii_letters) for _ in range(10))\n",
    "\n",
    "get_temp_name()"
   ]
  },
  {
   "cell_type": "code",
   "execution_count": 24,
   "metadata": {},
   "outputs": [
    {
     "data": {
      "text/plain": [
       "['1gkad', 'dum9ko', '8yc9y', 'xtnifl']"
      ]
     },
     "execution_count": 24,
     "metadata": {},
     "output_type": "execute_result"
    }
   ],
   "source": [
    "import os\n",
    "os.listdir('../shared/1/library')"
   ]
  }
 ],
 "metadata": {
  "interpreter": {
   "hash": "31f2aee4e71d21fbe5cf8b01ff0e069b9275f58929596ceb00d14d90e3e16cd6"
  },
  "kernelspec": {
   "display_name": "Python 3.8.10 64-bit",
   "language": "python",
   "name": "python3"
  },
  "language_info": {
   "codemirror_mode": {
    "name": "ipython",
    "version": 3
   },
   "file_extension": ".py",
   "mimetype": "text/x-python",
   "name": "python",
   "nbconvert_exporter": "python",
   "pygments_lexer": "ipython3",
   "version": "3.8.10"
  },
  "orig_nbformat": 4
 },
 "nbformat": 4,
 "nbformat_minor": 2
}
